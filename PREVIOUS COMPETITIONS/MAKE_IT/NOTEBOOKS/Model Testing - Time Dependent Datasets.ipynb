{
 "cells": [
  {
   "cell_type": "markdown",
   "id": "c01843d9",
   "metadata": {},
   "source": [
    "# Import Libraries"
   ]
  },
  {
   "cell_type": "code",
   "execution_count": 1,
   "id": "282512a3",
   "metadata": {},
   "outputs": [
    {
     "name": "stderr",
     "output_type": "stream",
     "text": [
      "2023-02-16 05:04:55.845940: I tensorflow/core/platform/cpu_feature_guard.cc:193] This TensorFlow binary is optimized with oneAPI Deep Neural Network Library (oneDNN) to use the following CPU instructions in performance-critical operations:  AVX2 FMA\n",
      "To enable them in other operations, rebuild TensorFlow with the appropriate compiler flags.\n"
     ]
    }
   ],
   "source": [
    "import numpy as np\n",
    "import pandas as pd\n",
    "import matplotlib.pyplot as plt\n",
    "\n",
    "# TRAIN TEST SPLIT\n",
    "from sklearn.model_selection import train_test_split\n",
    "\n",
    "# TENSORFLOW\n",
    "from tensorflow import keras\n",
    "from tensorflow.keras import layers"
   ]
  },
  {
   "cell_type": "markdown",
   "id": "cb728882",
   "metadata": {},
   "source": [
    "## Load Data"
   ]
  },
  {
   "cell_type": "code",
   "execution_count": 2,
   "id": "98f6f13b",
   "metadata": {},
   "outputs": [],
   "source": [
    "data_path='../MATERIALS/DATA/processed_data/transaction_data.csv'\n",
    "df       =pd.read_csv(data_path).drop('Unnamed: 0', axis=1)"
   ]
  },
  {
   "cell_type": "code",
   "execution_count": 3,
   "id": "21f05fa2",
   "metadata": {},
   "outputs": [
    {
     "data": {
      "text/plain": [
       "array([2022])"
      ]
     },
     "execution_count": 3,
     "metadata": {},
     "output_type": "execute_result"
    }
   ],
   "source": [
    "data=pd.to_datetime(df.DATA)\n",
    "np.unique(data.dt.year) # ONLY ONE YEAR!"
   ]
  },
  {
   "cell_type": "code",
   "execution_count": 4,
   "id": "28f9e27f",
   "metadata": {},
   "outputs": [],
   "source": [
    "df['DATA']=pd.to_datetime(df.DATA)"
   ]
  },
  {
   "cell_type": "markdown",
   "id": "6067358f",
   "metadata": {},
   "source": [
    "# Further Time Series Data Processing"
   ]
  },
  {
   "cell_type": "markdown",
   "id": "117b29f4",
   "metadata": {},
   "source": [
    "Idea is to have a DataFrame for each client where every row is the sum of all variables within a week. \n",
    "\n",
    "We must add ghost rows on each 1st day of the week, to make sure all DataFrames have the same size."
   ]
  },
  {
   "cell_type": "code",
   "execution_count": 5,
   "id": "a19d0fec",
   "metadata": {},
   "outputs": [],
   "source": [
    "ghost_index=pd.date_range(start='2022-01-01', end='2022-05-1', freq='W')"
   ]
  },
  {
   "cell_type": "markdown",
   "id": "2a630277",
   "metadata": {},
   "source": [
    "Start be creating a DataFrame for each client"
   ]
  },
  {
   "cell_type": "code",
   "execution_count": 6,
   "id": "156acdb2",
   "metadata": {},
   "outputs": [],
   "source": [
    "client_dataframes=dict()\n",
    "client_target    =dict()\n",
    "unique_clients   = np.unique(df.ID)\n",
    "\n",
    "for client_ID in unique_clients:\n",
    "    client_dataframes[client_ID]=df[df.ID==client_ID].set_index('DATA').drop(['ID', 'target'], axis=1)\n",
    "    client_target[client_ID]=np.mean(df[df.ID==client_ID].target).astype(int)"
   ]
  },
  {
   "cell_type": "code",
   "execution_count": 7,
   "id": "3002011c",
   "metadata": {},
   "outputs": [],
   "source": [
    "#TEST TO GET START AND END DAY OF COUNTING\n",
    "#client=client_dataframes[171]\n",
    "#client.sort_values(by='DATA').index[-1]"
   ]
  },
  {
   "cell_type": "markdown",
   "id": "c47fcfed",
   "metadata": {},
   "source": [
    "Finally, resample on a weekly basis"
   ]
  },
  {
   "cell_type": "code",
   "execution_count": 8,
   "id": "b628a49b",
   "metadata": {},
   "outputs": [],
   "source": [
    "# TAKES TOO LONG TO RUN - POORLY OPTIMIZED CODE\n",
    "for client_ID in unique_clients:\n",
    "    client=client_dataframes[client_ID]\n",
    "    for index in ghost_index:\n",
    "        client.loc[len(client)] = 0                             # Adds ghost row on index=len(client)\n",
    "        client.rename(index={len(client)-1:index},inplace=True) # Changes ghost row index to time data\n",
    "    client_dataframes[client_ID]=client.resample('W').sum()"
   ]
  },
  {
   "cell_type": "markdown",
   "id": "593e2612",
   "metadata": {},
   "source": [
    "Check all client DataFrames have same dimentions"
   ]
  },
  {
   "cell_type": "code",
   "execution_count": 9,
   "id": "c3524cdc",
   "metadata": {},
   "outputs": [
    {
     "data": {
      "text/plain": [
       "0"
      ]
     },
     "execution_count": 9,
     "metadata": {},
     "output_type": "execute_result"
    }
   ],
   "source": [
    "check=client_dataframes[1].shape\n",
    "\n",
    "sum([client_dataframes[client_ID].shape!=check for client_ID in unique_clients])"
   ]
  },
  {
   "cell_type": "markdown",
   "id": "0ebb8819",
   "metadata": {},
   "source": [
    "save DataFrame as .csv"
   ]
  },
  {
   "cell_type": "code",
   "execution_count": 10,
   "id": "5c12db6f",
   "metadata": {},
   "outputs": [],
   "source": [
    "dataset_time=pd.DataFrame({})\n",
    "\n",
    "for client_ID in unique_clients:\n",
    "    \n",
    "    client=client_dataframes[client_ID]\n",
    "    client[['ID', 'target']]=[client_ID, client_target[client_ID]]\n",
    "    \n",
    "    frames = [dataset_time, client]\n",
    "    dataset_time = pd.concat(frames)"
   ]
  },
  {
   "cell_type": "code",
   "execution_count": 11,
   "id": "f1208043",
   "metadata": {},
   "outputs": [],
   "source": [
    "dataset_time.reset_index(inplace=True)\n",
    "dataset_time.index=dataset_time.ID\n",
    "dataset_time.drop('ID', inplace=True, axis=1)"
   ]
  },
  {
   "cell_type": "code",
   "execution_count": 12,
   "id": "99e9b36d",
   "metadata": {},
   "outputs": [],
   "source": [
    "dataset_time.to_csv('../MATERIALS/DATA/processed_data/processed_time_dataset.csv')"
   ]
  },
  {
   "cell_type": "markdown",
   "id": "a03822b9",
   "metadata": {},
   "source": [
    "# LSTM Build Model"
   ]
  },
  {
   "cell_type": "code",
   "execution_count": null,
   "id": "94fff349",
   "metadata": {},
   "outputs": [],
   "source": []
  },
  {
   "cell_type": "markdown",
   "id": "78e1f86e",
   "metadata": {},
   "source": [
    "#  Transformer Build Model"
   ]
  },
  {
   "cell_type": "code",
   "execution_count": null,
   "id": "e476ec0e",
   "metadata": {},
   "outputs": [],
   "source": []
  }
 ],
 "metadata": {
  "kernelspec": {
   "display_name": "Python 3 (ipykernel)",
   "language": "python",
   "name": "python3"
  },
  "language_info": {
   "codemirror_mode": {
    "name": "ipython",
    "version": 3
   },
   "file_extension": ".py",
   "mimetype": "text/x-python",
   "name": "python",
   "nbconvert_exporter": "python",
   "pygments_lexer": "ipython3",
   "version": "3.10.8"
  }
 },
 "nbformat": 4,
 "nbformat_minor": 5
}
