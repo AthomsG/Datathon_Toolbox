{
 "cells": [
  {
   "cell_type": "code",
   "execution_count": 167,
   "id": "ddaedeb5",
   "metadata": {},
   "outputs": [],
   "source": [
    "# Importar TensorFlow e outras bibliotecas\n",
    "import matplotlib.pyplot as plt\n",
    "import numpy as np\n",
    "import os\n",
    "import PIL\n",
    "import random as rd\n",
    "import seaborn as sns\n",
    "import pandas as pd\n",
    "\n",
    "from sklearn.model_selection import train_test_split\n",
    "from sklearn.metrics import confusion_matrix\n",
    "from sklearn.metrics import classification_report\n",
    "from sklearn.utils import shuffle\n",
    "\n",
    "from sklearn.neighbors import KNeighborsClassifier\n",
    "\n",
    "\n",
    "import tensorflow as tf\n",
    "from tensorflow import keras\n",
    "from tensorflow.keras import layers\n",
    "from tensorflow.keras.models import Sequential"
   ]
  },
  {
   "cell_type": "code",
   "execution_count": 168,
   "id": "05ca3fee",
   "metadata": {},
   "outputs": [],
   "source": [
    "letter  = ['a', 'b', 'c', 'd', 'e', 'f', 'g', 'h', 'i']\n",
    "numbers = np.linspace(1, len(letter), len(letter))"
   ]
  },
  {
   "cell_type": "code",
   "execution_count": 169,
   "id": "ca4245a3",
   "metadata": {},
   "outputs": [],
   "source": [
    "data='/Users/thomasgaehtgens/Desktop/level_1/training_data.csv'\n",
    "\n",
    "test_1='/Users/thomasgaehtgens/Desktop/level_3/simple_test_data.csv'\n",
    "\n",
    "df=pd.read_csv(data, header=None)"
   ]
  },
  {
   "cell_type": "code",
   "execution_count": 171,
   "id": "2fbb4bff",
   "metadata": {},
   "outputs": [],
   "source": [
    "classes=df[1]"
   ]
  },
  {
   "cell_type": "code",
   "execution_count": 172,
   "id": "c646714a",
   "metadata": {},
   "outputs": [
    {
     "data": {
      "image/png": "[encoded data removed]",
      "text/plain": [
       "<Figure size 640x480 with 1 Axes>"
      ]
     },
     "metadata": {},
     "output_type": "display_data"
    }
   ],
   "source": [
    "oi=plt.hist(classes)"
   ]
  },
  {
   "cell_type": "code",
   "execution_count": 173,
   "id": "8ff2d584",
   "metadata": {},
   "outputs": [],
   "source": [
    "oi[0]\n",
    "submission=list()\n",
    "\n",
    "for i in oi[0]:\n",
    "    if i!=0:\n",
    "        submission.append(int(i))"
   ]
  },
  {
   "cell_type": "code",
   "execution_count": 174,
   "id": "cd436e0d",
   "metadata": {},
   "outputs": [],
   "source": [
    "submission=np.array(submission).reshape(5, -1)"
   ]
  },
  {
   "cell_type": "code",
   "execution_count": 72,
   "id": "8da90ece",
   "metadata": {},
   "outputs": [],
   "source": [
    "np.savetxt('level_1.txt', submission, delimiter=',')"
   ]
  },
  {
   "cell_type": "code",
   "execution_count": null,
   "id": "1060e6a7",
   "metadata": {},
   "outputs": [],
   "source": []
  },
  {
   "cell_type": "code",
   "execution_count": 73,
   "id": "0700f3fe",
   "metadata": {},
   "outputs": [],
   "source": [
    "moves=df[0]"
   ]
  },
  {
   "cell_type": "code",
   "execution_count": 74,
   "id": "37a614ee",
   "metadata": {},
   "outputs": [],
   "source": [
    "moves_list=list(moves)"
   ]
  },
  {
   "cell_type": "code",
   "execution_count": 83,
   "id": "8817ac2a",
   "metadata": {},
   "outputs": [],
   "source": [
    "pop_these=list()\n",
    "for i in range(len(moves_list)):\n",
    "    if len(moves_list[i])!=30:\n",
    "        pop_these.append(i)"
   ]
  },
  {
   "cell_type": "code",
   "execution_count": 175,
   "id": "6c9352a6",
   "metadata": {},
   "outputs": [],
   "source": [
    "df_clean=df.drop(df.index[pop_these])"
   ]
  },
  {
   "cell_type": "code",
   "execution_count": 176,
   "id": "637e7d10",
   "metadata": {},
   "outputs": [
    {
     "data": {
      "text/html": [
       "<div>\n",
       "<style scoped>\n",
       "    .dataframe tbody tr th:only-of-type {\n",
       "        vertical-align: middle;\n",
       "    }\n",
       "\n",
       "    .dataframe tbody tr th {\n",
       "        vertical-align: top;\n",
       "    }\n",
       "\n",
       "    .dataframe thead th {\n",
       "        text-align: right;\n",
       "    }\n",
       "</style>\n",
       "<table border=\"1\" class=\"dataframe\">\n",
       "  <thead>\n",
       "    <tr style=\"text-align: right;\">\n",
       "      <th></th>\n",
       "      <th>0</th>\n",
       "      <th>1</th>\n",
       "    </tr>\n",
       "  </thead>\n",
       "  <tbody>\n",
       "    <tr>\n",
       "      <th>0</th>\n",
       "      <td>fgiadcfabdhiecgcefhfefeeciedcb</td>\n",
       "      <td>3</td>\n",
       "    </tr>\n",
       "    <tr>\n",
       "      <th>1</th>\n",
       "      <td>bghfcdbaecdfgiadafaieicihdccbe</td>\n",
       "      <td>4</td>\n",
       "    </tr>\n",
       "    <tr>\n",
       "      <th>2</th>\n",
       "      <td>agidfedadgcaaeieccabcdbahgcdeh</td>\n",
       "      <td>1</td>\n",
       "    </tr>\n",
       "    <tr>\n",
       "      <th>3</th>\n",
       "      <td>gchcdfcghghhcfghbbeicfcdecfgbg</td>\n",
       "      <td>2</td>\n",
       "    </tr>\n",
       "    <tr>\n",
       "      <th>4</th>\n",
       "      <td>hgbdghafccgchicaafgdcagcdfcbbe</td>\n",
       "      <td>2</td>\n",
       "    </tr>\n",
       "    <tr>\n",
       "      <th>...</th>\n",
       "      <td>...</td>\n",
       "      <td>...</td>\n",
       "    </tr>\n",
       "    <tr>\n",
       "      <th>5452</th>\n",
       "      <td>behadefgfhcibdicddeibaafaigcgd</td>\n",
       "      <td>4</td>\n",
       "    </tr>\n",
       "    <tr>\n",
       "      <th>5453</th>\n",
       "      <td>dfffiehccefecifcceifgdeieghbcb</td>\n",
       "      <td>3</td>\n",
       "    </tr>\n",
       "    <tr>\n",
       "      <th>5454</th>\n",
       "      <td>hbbcddahicggbfiiegefbibbegegge</td>\n",
       "      <td>1</td>\n",
       "    </tr>\n",
       "    <tr>\n",
       "      <th>5455</th>\n",
       "      <td>caciabgddgdbefibhbcdehhbhgieib</td>\n",
       "      <td>1</td>\n",
       "    </tr>\n",
       "    <tr>\n",
       "      <th>5456</th>\n",
       "      <td>bigdgaedgcdhcbdegbicbbeiedefec</td>\n",
       "      <td>2</td>\n",
       "    </tr>\n",
       "  </tbody>\n",
       "</table>\n",
       "<p>5275 rows × 2 columns</p>\n",
       "</div>"
      ],
      "text/plain": [
       "                                   0  1\n",
       "0     fgiadcfabdhiecgcefhfefeeciedcb  3\n",
       "1     bghfcdbaecdfgiadafaieicihdccbe  4\n",
       "2     agidfedadgcaaeieccabcdbahgcdeh  1\n",
       "3     gchcdfcghghhcfghbbeicfcdecfgbg  2\n",
       "4     hgbdghafccgchicaafgdcagcdfcbbe  2\n",
       "...                              ... ..\n",
       "5452  behadefgfhcibdicddeibaafaigcgd  4\n",
       "5453  dfffiehccefecifcceifgdeieghbcb  3\n",
       "5454  hbbcddahicggbfiiegefbibbegegge  1\n",
       "5455  caciabgddgdbefibhbcdehhbhgieib  1\n",
       "5456  bigdgaedgcdhcbdegbicbbeiedefec  2\n",
       "\n",
       "[5275 rows x 2 columns]"
      ]
     },
     "execution_count": 176,
     "metadata": {},
     "output_type": "execute_result"
    }
   ],
   "source": [
    "df_clean"
   ]
  },
  {
   "cell_type": "code",
   "execution_count": 86,
   "id": "e9db1394",
   "metadata": {},
   "outputs": [],
   "source": [
    "sub_2=np.histogram(np.array(df_clean[1]), bins=[0, 1, 2, 3, 4, 5])[0].reshape(5, -1)"
   ]
  },
  {
   "cell_type": "code",
   "execution_count": 87,
   "id": "c7ea2e86",
   "metadata": {},
   "outputs": [
    {
     "data": {
      "image/png": "[encoded data removed]",
      "text/plain": [
       "<Figure size 640x480 with 1 Axes>"
      ]
     },
     "metadata": {},
     "output_type": "display_data"
    }
   ],
   "source": [
    "oi=plt.hist(np.array(df_clean[1]))"
   ]
  },
  {
   "cell_type": "markdown",
   "id": "ab94841f",
   "metadata": {},
   "source": [
    "oi"
   ]
  },
  {
   "cell_type": "code",
   "execution_count": 88,
   "id": "46393947",
   "metadata": {},
   "outputs": [
    {
     "data": {
      "text/plain": [
       "(array([1133.,    0., 1020.,    0.,    0.,  965.,    0., 1181.,    0.,\n",
       "         976.]),\n",
       " array([0. , 0.4, 0.8, 1.2, 1.6, 2. , 2.4, 2.8, 3.2, 3.6, 4. ]),\n",
       " <BarContainer object of 10 artists>)"
      ]
     },
     "execution_count": 88,
     "metadata": {},
     "output_type": "execute_result"
    }
   ],
   "source": [
    "oi"
   ]
  },
  {
   "cell_type": "code",
   "execution_count": 93,
   "id": "c4af8dde",
   "metadata": {},
   "outputs": [],
   "source": [
    "dick=dict()\n",
    "\n",
    "for i in range(len(numbers)):\n",
    "    dick[letter[i]]=numbers[int(i)]"
   ]
  },
  {
   "cell_type": "code",
   "execution_count": 94,
   "id": "81bab75b",
   "metadata": {},
   "outputs": [
    {
     "data": {
      "text/plain": [
       "{'a': 1.0,\n",
       " 'b': 2.0,\n",
       " 'c': 3.0,\n",
       " 'd': 4.0,\n",
       " 'e': 5.0,\n",
       " 'f': 6.0,\n",
       " 'g': 7.0,\n",
       " 'h': 8.0,\n",
       " 'i': 9.0}"
      ]
     },
     "execution_count": 94,
     "metadata": {},
     "output_type": "execute_result"
    }
   ],
   "source": [
    "dick"
   ]
  },
  {
   "cell_type": "code",
   "execution_count": 96,
   "id": "6a4d036c",
   "metadata": {},
   "outputs": [],
   "source": [
    "def convert_string(string):\n",
    "    output=list()\n",
    "    for i in string:\n",
    "        output.append(dick[i])\n",
    "    return output\n",
    "        "
   ]
  },
  {
   "cell_type": "code",
   "execution_count": 99,
   "id": "d1427219",
   "metadata": {},
   "outputs": [
    {
     "data": {
      "text/plain": [
       "[1.0, 2.0, 1.0, 3.0]"
      ]
     },
     "execution_count": 99,
     "metadata": {},
     "output_type": "execute_result"
    }
   ],
   "source": [
    "convert_string('abac')"
   ]
  },
  {
   "cell_type": "code",
   "execution_count": 101,
   "id": "6bde8995",
   "metadata": {},
   "outputs": [],
   "source": [
    "df_clean_3 = df_clean[~df_clean[1].isin([2, 3, 4])]"
   ]
  },
  {
   "cell_type": "code",
   "execution_count": 109,
   "id": "26e58e2c",
   "metadata": {},
   "outputs": [],
   "source": [
    "X=np.array(df_clean_3[0])\n",
    "y=np.array(df_clean_3[1])"
   ]
  },
  {
   "cell_type": "code",
   "execution_count": 111,
   "id": "4d33f9d2",
   "metadata": {},
   "outputs": [],
   "source": [
    "X=np.array([convert_string(i) for i in X]).astype(int)"
   ]
  },
  {
   "cell_type": "code",
   "execution_count": 112,
   "id": "03c4111e",
   "metadata": {},
   "outputs": [
    {
     "data": {
      "text/plain": [
       "array([[1, 7, 9, ..., 4, 5, 8],\n",
       "       [6, 5, 2, ..., 3, 9, 4],\n",
       "       [1, 9, 4, ..., 6, 3, 6],\n",
       "       ...,\n",
       "       [8, 2, 4, ..., 9, 9, 2],\n",
       "       [8, 2, 2, ..., 7, 7, 5],\n",
       "       [3, 1, 3, ..., 5, 9, 2]])"
      ]
     },
     "execution_count": 112,
     "metadata": {},
     "output_type": "execute_result"
    }
   ],
   "source": [
    "X"
   ]
  },
  {
   "cell_type": "code",
   "execution_count": 157,
   "id": "a8d6c616",
   "metadata": {},
   "outputs": [],
   "source": [
    "Xtrain, Xtest, ytrain, ytest = train_test_split(X, y, test_size=0.2, random_state=69)"
   ]
  },
  {
   "cell_type": "code",
   "execution_count": null,
   "id": "bae3d750",
   "metadata": {},
   "outputs": [],
   "source": []
  },
  {
   "cell_type": "code",
   "execution_count": 158,
   "id": "bdbb3c50",
   "metadata": {},
   "outputs": [
    {
     "data": {
      "text/html": [
       "<style>#sk-container-id-13 {color: black;background-color: white;}#sk-container-id-13 pre{padding: 0;}#sk-container-id-13 div.sk-toggleable {background-color: white;}#sk-container-id-13 label.sk-toggleable__label {cursor: pointer;display: block;width: 100%;margin-bottom: 0;padding: 0.3em;box-sizing: border-box;text-align: center;}#sk-container-id-13 label.sk-toggleable__label-arrow:before {content: \"▸\";float: left;margin-right: 0.25em;color: #696969;}#sk-container-id-13 label.sk-toggleable__label-arrow:hover:before {color: black;}#sk-container-id-13 div.sk-estimator:hover label.sk-toggleable__label-arrow:before {color: black;}#sk-container-id-13 div.sk-toggleable__content {max-height: 0;max-width: 0;overflow: hidden;text-align: left;background-color: #f0f8ff;}#sk-container-id-13 div.sk-toggleable__content pre {margin: 0.2em;color: black;border-radius: 0.25em;background-color: #f0f8ff;}#sk-container-id-13 input.sk-toggleable__control:checked~div.sk-toggleable__content {max-height: 200px;max-width: 100%;overflow: auto;}#sk-container-id-13 input.sk-toggleable__control:checked~label.sk-toggleable__label-arrow:before {content: \"▾\";}#sk-container-id-13 div.sk-estimator input.sk-toggleable__control:checked~label.sk-toggleable__label {background-color: #d4ebff;}#sk-container-id-13 div.sk-label input.sk-toggleable__control:checked~label.sk-toggleable__label {background-color: #d4ebff;}#sk-container-id-13 input.sk-hidden--visually {border: 0;clip: rect(1px 1px 1px 1px);clip: rect(1px, 1px, 1px, 1px);height: 1px;margin: -1px;overflow: hidden;padding: 0;position: absolute;width: 1px;}#sk-container-id-13 div.sk-estimator {font-family: monospace;background-color: #f0f8ff;border: 1px dotted black;border-radius: 0.25em;box-sizing: border-box;margin-bottom: 0.5em;}#sk-container-id-13 div.sk-estimator:hover {background-color: #d4ebff;}#sk-container-id-13 div.sk-parallel-item::after {content: \"\";width: 100%;border-bottom: 1px solid gray;flex-grow: 1;}#sk-container-id-13 div.sk-label:hover label.sk-toggleable__label {background-color: #d4ebff;}#sk-container-id-13 div.sk-serial::before {content: \"\";position: absolute;border-left: 1px solid gray;box-sizing: border-box;top: 0;bottom: 0;left: 50%;z-index: 0;}#sk-container-id-13 div.sk-serial {display: flex;flex-direction: column;align-items: center;background-color: white;padding-right: 0.2em;padding-left: 0.2em;position: relative;}#sk-container-id-13 div.sk-item {position: relative;z-index: 1;}#sk-container-id-13 div.sk-parallel {display: flex;align-items: stretch;justify-content: center;background-color: white;position: relative;}#sk-container-id-13 div.sk-item::before, #sk-container-id-13 div.sk-parallel-item::before {content: \"\";position: absolute;border-left: 1px solid gray;box-sizing: border-box;top: 0;bottom: 0;left: 50%;z-index: -1;}#sk-container-id-13 div.sk-parallel-item {display: flex;flex-direction: column;z-index: 1;position: relative;background-color: white;}#sk-container-id-13 div.sk-parallel-item:first-child::after {align-self: flex-end;width: 50%;}#sk-container-id-13 div.sk-parallel-item:last-child::after {align-self: flex-start;width: 50%;}#sk-container-id-13 div.sk-parallel-item:only-child::after {width: 0;}#sk-container-id-13 div.sk-dashed-wrapped {border: 1px dashed gray;margin: 0 0.4em 0.5em 0.4em;box-sizing: border-box;padding-bottom: 0.4em;background-color: white;}#sk-container-id-13 div.sk-label label {font-family: monospace;font-weight: bold;display: inline-block;line-height: 1.2em;}#sk-container-id-13 div.sk-label-container {text-align: center;}#sk-container-id-13 div.sk-container {/* jupyter's `normalize.less` sets `[hidden] { display: none; }` but bootstrap.min.css set `[hidden] { display: none !important; }` so we also need the `!important` here to be able to override the default hidden behavior on the sphinx rendered scikit-learn.org. See: https://github.com/scikit-learn/scikit-learn/issues/21755 */display: inline-block !important;position: relative;}#sk-container-id-13 div.sk-text-repr-fallback {display: none;}</style><div id=\"sk-container-id-13\" class=\"sk-top-container\"><div class=\"sk-text-repr-fallback\"><pre>KNeighborsClassifier(n_neighbors=20)</pre><b>In a Jupyter environment, please rerun this cell to show the HTML representation or trust the notebook. <br />On GitHub, the HTML representation is unable to render, please try loading this page with nbviewer.org.</b></div><div class=\"sk-container\" hidden><div class=\"sk-item\"><div class=\"sk-estimator sk-toggleable\"><input class=\"sk-toggleable__control sk-hidden--visually\" id=\"sk-estimator-id-13\" type=\"checkbox\" checked><label for=\"sk-estimator-id-13\" class=\"sk-toggleable__label sk-toggleable__label-arrow\">KNeighborsClassifier</label><div class=\"sk-toggleable__content\"><pre>KNeighborsClassifier(n_neighbors=20)</pre></div></div></div></div></div>"
      ],
      "text/plain": [
       "KNeighborsClassifier(n_neighbors=20)"
      ]
     },
     "execution_count": 158,
     "metadata": {},
     "output_type": "execute_result"
    }
   ],
   "source": [
    "kkn = KNeighborsClassifier(n_neighbors=20)\n",
    "kkn.fit(X, y)\n"
   ]
  },
  {
   "cell_type": "code",
   "execution_count": 159,
   "id": "51b20549",
   "metadata": {},
   "outputs": [
    {
     "data": {
      "text/plain": [
       "0.7308584686774942"
      ]
     },
     "execution_count": 159,
     "metadata": {},
     "output_type": "execute_result"
    }
   ],
   "source": [
    "sum(kkn.predict(Xtest)==ytest)/len(ytest)"
   ]
  },
  {
   "cell_type": "code",
   "execution_count": 160,
   "id": "96ddb0d5",
   "metadata": {},
   "outputs": [],
   "source": [
    "df_test=pd.read_csv(data, header=None)\n"
   ]
  },
  {
   "cell_type": "code",
   "execution_count": 161,
   "id": "1b6c9a6f",
   "metadata": {},
   "outputs": [],
   "source": [
    "Xtest=df_test[0]\n",
    "Xtest=np.array([convert_string(i) for i in Xtest]).astype(int)\n"
   ]
  },
  {
   "cell_type": "code",
   "execution_count": 164,
   "id": "9c689ebd",
   "metadata": {},
   "outputs": [],
   "source": [
    "send=kkn.predict(Xtest)"
   ]
  },
  {
   "cell_type": "code",
   "execution_count": 166,
   "id": "eb7755d3",
   "metadata": {},
   "outputs": [],
   "source": [
    "np.savetxt('task_3.txt', send)"
   ]
  },
  {
   "cell_type": "code",
   "execution_count": null,
   "id": "58a014bf",
   "metadata": {},
   "outputs": [],
   "source": []
  },
  {
   "cell_type": "code",
   "execution_count": 179,
   "id": "476ffde7",
   "metadata": {},
   "outputs": [],
   "source": [
    "X=df_clean[0]\n",
    "X=np.array([convert_string(i) for i in X]).astype(int)\n",
    "\n",
    "y=df_clean[1]"
   ]
  },
  {
   "cell_type": "code",
   "execution_count": null,
   "id": "d13bd28d",
   "metadata": {},
   "outputs": [],
   "source": []
  },
  {
   "cell_type": "code",
   "execution_count": 182,
   "id": "d8c5a994",
   "metadata": {},
   "outputs": [],
   "source": [
    "Xtrain, Xtest, ytrain, ytest = train_test_split(X, y, test_size=0.2, random_state=69)"
   ]
  },
  {
   "cell_type": "code",
   "execution_count": 186,
   "id": "ee753f55",
   "metadata": {},
   "outputs": [
    {
     "data": {
      "text/html": [
       "<style>#sk-container-id-16 {color: black;background-color: white;}#sk-container-id-16 pre{padding: 0;}#sk-container-id-16 div.sk-toggleable {background-color: white;}#sk-container-id-16 label.sk-toggleable__label {cursor: pointer;display: block;width: 100%;margin-bottom: 0;padding: 0.3em;box-sizing: border-box;text-align: center;}#sk-container-id-16 label.sk-toggleable__label-arrow:before {content: \"▸\";float: left;margin-right: 0.25em;color: #696969;}#sk-container-id-16 label.sk-toggleable__label-arrow:hover:before {color: black;}#sk-container-id-16 div.sk-estimator:hover label.sk-toggleable__label-arrow:before {color: black;}#sk-container-id-16 div.sk-toggleable__content {max-height: 0;max-width: 0;overflow: hidden;text-align: left;background-color: #f0f8ff;}#sk-container-id-16 div.sk-toggleable__content pre {margin: 0.2em;color: black;border-radius: 0.25em;background-color: #f0f8ff;}#sk-container-id-16 input.sk-toggleable__control:checked~div.sk-toggleable__content {max-height: 200px;max-width: 100%;overflow: auto;}#sk-container-id-16 input.sk-toggleable__control:checked~label.sk-toggleable__label-arrow:before {content: \"▾\";}#sk-container-id-16 div.sk-estimator input.sk-toggleable__control:checked~label.sk-toggleable__label {background-color: #d4ebff;}#sk-container-id-16 div.sk-label input.sk-toggleable__control:checked~label.sk-toggleable__label {background-color: #d4ebff;}#sk-container-id-16 input.sk-hidden--visually {border: 0;clip: rect(1px 1px 1px 1px);clip: rect(1px, 1px, 1px, 1px);height: 1px;margin: -1px;overflow: hidden;padding: 0;position: absolute;width: 1px;}#sk-container-id-16 div.sk-estimator {font-family: monospace;background-color: #f0f8ff;border: 1px dotted black;border-radius: 0.25em;box-sizing: border-box;margin-bottom: 0.5em;}#sk-container-id-16 div.sk-estimator:hover {background-color: #d4ebff;}#sk-container-id-16 div.sk-parallel-item::after {content: \"\";width: 100%;border-bottom: 1px solid gray;flex-grow: 1;}#sk-container-id-16 div.sk-label:hover label.sk-toggleable__label {background-color: #d4ebff;}#sk-container-id-16 div.sk-serial::before {content: \"\";position: absolute;border-left: 1px solid gray;box-sizing: border-box;top: 0;bottom: 0;left: 50%;z-index: 0;}#sk-container-id-16 div.sk-serial {display: flex;flex-direction: column;align-items: center;background-color: white;padding-right: 0.2em;padding-left: 0.2em;position: relative;}#sk-container-id-16 div.sk-item {position: relative;z-index: 1;}#sk-container-id-16 div.sk-parallel {display: flex;align-items: stretch;justify-content: center;background-color: white;position: relative;}#sk-container-id-16 div.sk-item::before, #sk-container-id-16 div.sk-parallel-item::before {content: \"\";position: absolute;border-left: 1px solid gray;box-sizing: border-box;top: 0;bottom: 0;left: 50%;z-index: -1;}#sk-container-id-16 div.sk-parallel-item {display: flex;flex-direction: column;z-index: 1;position: relative;background-color: white;}#sk-container-id-16 div.sk-parallel-item:first-child::after {align-self: flex-end;width: 50%;}#sk-container-id-16 div.sk-parallel-item:last-child::after {align-self: flex-start;width: 50%;}#sk-container-id-16 div.sk-parallel-item:only-child::after {width: 0;}#sk-container-id-16 div.sk-dashed-wrapped {border: 1px dashed gray;margin: 0 0.4em 0.5em 0.4em;box-sizing: border-box;padding-bottom: 0.4em;background-color: white;}#sk-container-id-16 div.sk-label label {font-family: monospace;font-weight: bold;display: inline-block;line-height: 1.2em;}#sk-container-id-16 div.sk-label-container {text-align: center;}#sk-container-id-16 div.sk-container {/* jupyter's `normalize.less` sets `[hidden] { display: none; }` but bootstrap.min.css set `[hidden] { display: none !important; }` so we also need the `!important` here to be able to override the default hidden behavior on the sphinx rendered scikit-learn.org. See: https://github.com/scikit-learn/scikit-learn/issues/21755 */display: inline-block !important;position: relative;}#sk-container-id-16 div.sk-text-repr-fallback {display: none;}</style><div id=\"sk-container-id-16\" class=\"sk-top-container\"><div class=\"sk-text-repr-fallback\"><pre>KNeighborsClassifier(n_neighbors=10)</pre><b>In a Jupyter environment, please rerun this cell to show the HTML representation or trust the notebook. <br />On GitHub, the HTML representation is unable to render, please try loading this page with nbviewer.org.</b></div><div class=\"sk-container\" hidden><div class=\"sk-item\"><div class=\"sk-estimator sk-toggleable\"><input class=\"sk-toggleable__control sk-hidden--visually\" id=\"sk-estimator-id-16\" type=\"checkbox\" checked><label for=\"sk-estimator-id-16\" class=\"sk-toggleable__label sk-toggleable__label-arrow\">KNeighborsClassifier</label><div class=\"sk-toggleable__content\"><pre>KNeighborsClassifier(n_neighbors=10)</pre></div></div></div></div></div>"
      ],
      "text/plain": [
       "KNeighborsClassifier(n_neighbors=10)"
      ]
     },
     "execution_count": 186,
     "metadata": {},
     "output_type": "execute_result"
    }
   ],
   "source": [
    "kkn = KNeighborsClassifier(n_neighbors=10)\n",
    "kkn.fit(Xtrain, ytrain)"
   ]
  },
  {
   "cell_type": "code",
   "execution_count": 187,
   "id": "91f46498",
   "metadata": {},
   "outputs": [
    {
     "data": {
      "text/plain": [
       "0.2720379146919431"
      ]
     },
     "execution_count": 187,
     "metadata": {},
     "output_type": "execute_result"
    }
   ],
   "source": [
    "sum(kkn.predict(Xtest)==ytest)/len(ytest)"
   ]
  },
  {
   "cell_type": "code",
   "execution_count": null,
   "id": "30b576e9",
   "metadata": {},
   "outputs": [],
   "source": []
  },
  {
   "cell_type": "code",
   "execution_count": 211,
   "id": "1a5b52a7",
   "metadata": {},
   "outputs": [],
   "source": [
    "input_shape=len(X[0])\n",
    "def build_MLP(input_shape=input_shape):\n",
    "    basic_model = Sequential([\n",
    "        layers.Dense(100, activation='relu'),\n",
    "        layers.Dense(50, activation='relu'),\n",
    "        layers.Dense(5, activation='softmax')])\n",
    "\n",
    "    adam = tf.keras.optimizers.Adam()\n",
    "\n",
    "    basic_model.compile(optimizer=adam,\n",
    "                      loss='sparse_categorical_crossentropy',\n",
    "                      metrics=['Accuracy'])\n",
    "    return basic_model"
   ]
  },
  {
   "cell_type": "code",
   "execution_count": 229,
   "id": "4d3cef15",
   "metadata": {},
   "outputs": [
    {
     "ename": "ValueError",
     "evalue": "Input 0 of layer \"lstm_34\" is incompatible with the layer: expected ndim=3, found ndim=4. Full shape received: (None, 100, 1, 30)",
     "output_type": "error",
     "traceback": [
      "\u001b[0;31m---------------------------------------------------------------------------\u001b[0m",
      "\u001b[0;31mValueError\u001b[0m                                Traceback (most recent call last)",
      "Cell \u001b[0;32mIn [229], line 4\u001b[0m\n\u001b[1;32m      1\u001b[0m EPOCHS\u001b[38;5;241m=\u001b[39m\u001b[38;5;241m100\u001b[39m\n\u001b[1;32m      2\u001b[0m batch_size\u001b[38;5;241m=\u001b[39m\u001b[38;5;28;01mNone\u001b[39;00m\n\u001b[0;32m----> 4\u001b[0m RNN\u001b[38;5;241m=\u001b[39m\u001b[43mbuild_RNN\u001b[49m\u001b[43m(\u001b[49m\u001b[43m)\u001b[49m\n\u001b[1;32m      6\u001b[0m history \u001b[38;5;241m=\u001b[39m RNN\u001b[38;5;241m.\u001b[39mfit(\n\u001b[1;32m      7\u001b[0m   x\u001b[38;5;241m=\u001b[39mXtrain,\n\u001b[1;32m      8\u001b[0m   y\u001b[38;5;241m=\u001b[39mytrain,\n\u001b[0;32m   (...)\u001b[0m\n\u001b[1;32m     12\u001b[0m   shuffle\u001b[38;5;241m=\u001b[39m\u001b[38;5;28;01mTrue\u001b[39;00m\n\u001b[1;32m     13\u001b[0m )\n",
      "Cell \u001b[0;32mIn [221], line 2\u001b[0m, in \u001b[0;36mbuild_RNN\u001b[0;34m(input_shape)\u001b[0m\n\u001b[1;32m      1\u001b[0m \u001b[38;5;28;01mdef\u001b[39;00m \u001b[38;5;21mbuild_RNN\u001b[39m(input_shape\u001b[38;5;241m=\u001b[39minput_shape):\n\u001b[0;32m----> 2\u001b[0m     basic_model \u001b[38;5;241m=\u001b[39m \u001b[43mSequential\u001b[49m\u001b[43m(\u001b[49m\u001b[43m[\u001b[49m\n\u001b[1;32m      3\u001b[0m \u001b[43m        \u001b[49m\u001b[43mlayers\u001b[49m\u001b[38;5;241;43m.\u001b[39;49m\u001b[43mLSTM\u001b[49m\u001b[43m(\u001b[49m\u001b[38;5;241;43m128\u001b[39;49m\u001b[43m,\u001b[49m\u001b[43m \u001b[49m\u001b[43minput_shape\u001b[49m\u001b[38;5;241;43m=\u001b[39;49m\u001b[43m(\u001b[49m\u001b[38;5;241;43m100\u001b[39;49m\u001b[43m,\u001b[49m\u001b[43m \u001b[49m\u001b[38;5;241;43m1\u001b[39;49m\u001b[43m,\u001b[49m\u001b[43m \u001b[49m\u001b[38;5;241;43m30\u001b[39;49m\u001b[43m)\u001b[49m\u001b[43m,\u001b[49m\u001b[43mreturn_sequences\u001b[49m\u001b[38;5;241;43m=\u001b[39;49m\u001b[38;5;28;43;01mTrue\u001b[39;49;00m\u001b[43m)\u001b[49m\u001b[43m,\u001b[49m\n\u001b[1;32m      4\u001b[0m \u001b[43m        \u001b[49m\u001b[43mlayers\u001b[49m\u001b[38;5;241;43m.\u001b[39;49m\u001b[43mLSTM\u001b[49m\u001b[43m(\u001b[49m\u001b[38;5;241;43m128\u001b[39;49m\u001b[43m,\u001b[49m\u001b[43m \u001b[49m\u001b[43mreturn_sequences\u001b[49m\u001b[38;5;241;43m=\u001b[39;49m\u001b[38;5;28;43;01mTrue\u001b[39;49;00m\u001b[43m)\u001b[49m\u001b[43m,\u001b[49m\n\u001b[1;32m      5\u001b[0m \u001b[43m        \u001b[49m\u001b[43mlayers\u001b[49m\u001b[38;5;241;43m.\u001b[39;49m\u001b[43mLSTM\u001b[49m\u001b[43m(\u001b[49m\u001b[38;5;241;43m128\u001b[39;49m\u001b[43m)\u001b[49m\u001b[43m,\u001b[49m\n\u001b[1;32m      6\u001b[0m \u001b[43m        \u001b[49m\u001b[43mlayers\u001b[49m\u001b[38;5;241;43m.\u001b[39;49m\u001b[43mDense\u001b[49m\u001b[43m(\u001b[49m\u001b[38;5;241;43m32\u001b[39;49m\u001b[43m,\u001b[49m\u001b[43m \u001b[49m\u001b[43mactivation\u001b[49m\u001b[38;5;241;43m=\u001b[39;49m\u001b[38;5;124;43m\"\u001b[39;49m\u001b[38;5;124;43mrelu\u001b[39;49m\u001b[38;5;124;43m\"\u001b[39;49m\u001b[43m)\u001b[49m\u001b[43m,\u001b[49m\n\u001b[1;32m      7\u001b[0m \u001b[43m        \u001b[49m\u001b[43mlayers\u001b[49m\u001b[38;5;241;43m.\u001b[39;49m\u001b[43mDense\u001b[49m\u001b[43m(\u001b[49m\u001b[38;5;241;43m5\u001b[39;49m\u001b[43m,\u001b[49m\u001b[43m \u001b[49m\u001b[43mactivation\u001b[49m\u001b[38;5;241;43m=\u001b[39;49m\u001b[38;5;124;43m\"\u001b[39;49m\u001b[38;5;124;43msoftmax\u001b[39;49m\u001b[38;5;124;43m\"\u001b[39;49m\u001b[43m)\u001b[49m\u001b[43m]\u001b[49m\u001b[43m)\u001b[49m\n\u001b[1;32m      9\u001b[0m     adam \u001b[38;5;241m=\u001b[39m tf\u001b[38;5;241m.\u001b[39mkeras\u001b[38;5;241m.\u001b[39moptimizers\u001b[38;5;241m.\u001b[39mAdam()\n\u001b[1;32m     11\u001b[0m     basic_model\u001b[38;5;241m.\u001b[39mcompile(optimizer\u001b[38;5;241m=\u001b[39madam,\n\u001b[1;32m     12\u001b[0m                       loss\u001b[38;5;241m=\u001b[39m\u001b[38;5;124m'\u001b[39m\u001b[38;5;124msparse_categorical_crossentropy\u001b[39m\u001b[38;5;124m'\u001b[39m,\n\u001b[1;32m     13\u001b[0m                       metrics\u001b[38;5;241m=\u001b[39m[\u001b[38;5;124m'\u001b[39m\u001b[38;5;124mAccuracy\u001b[39m\u001b[38;5;124m'\u001b[39m])\n",
      "File \u001b[0;32m/usr/local/lib/python3.10/site-packages/tensorflow/python/trackable/base.py:205\u001b[0m, in \u001b[0;36mno_automatic_dependency_tracking.<locals>._method_wrapper\u001b[0;34m(self, *args, **kwargs)\u001b[0m\n\u001b[1;32m    203\u001b[0m \u001b[38;5;28mself\u001b[39m\u001b[38;5;241m.\u001b[39m_self_setattr_tracking \u001b[38;5;241m=\u001b[39m \u001b[38;5;28;01mFalse\u001b[39;00m  \u001b[38;5;66;03m# pylint: disable=protected-access\u001b[39;00m\n\u001b[1;32m    204\u001b[0m \u001b[38;5;28;01mtry\u001b[39;00m:\n\u001b[0;32m--> 205\u001b[0m   result \u001b[38;5;241m=\u001b[39m \u001b[43mmethod\u001b[49m\u001b[43m(\u001b[49m\u001b[38;5;28;43mself\u001b[39;49m\u001b[43m,\u001b[49m\u001b[43m \u001b[49m\u001b[38;5;241;43m*\u001b[39;49m\u001b[43margs\u001b[49m\u001b[43m,\u001b[49m\u001b[43m \u001b[49m\u001b[38;5;241;43m*\u001b[39;49m\u001b[38;5;241;43m*\u001b[39;49m\u001b[43mkwargs\u001b[49m\u001b[43m)\u001b[49m\n\u001b[1;32m    206\u001b[0m \u001b[38;5;28;01mfinally\u001b[39;00m:\n\u001b[1;32m    207\u001b[0m   \u001b[38;5;28mself\u001b[39m\u001b[38;5;241m.\u001b[39m_self_setattr_tracking \u001b[38;5;241m=\u001b[39m previous_value  \u001b[38;5;66;03m# pylint: disable=protected-access\u001b[39;00m\n",
      "File \u001b[0;32m/usr/local/lib/python3.10/site-packages/keras/utils/traceback_utils.py:70\u001b[0m, in \u001b[0;36mfilter_traceback.<locals>.error_handler\u001b[0;34m(*args, **kwargs)\u001b[0m\n\u001b[1;32m     67\u001b[0m     filtered_tb \u001b[38;5;241m=\u001b[39m _process_traceback_frames(e\u001b[38;5;241m.\u001b[39m__traceback__)\n\u001b[1;32m     68\u001b[0m     \u001b[38;5;66;03m# To get the full stack trace, call:\u001b[39;00m\n\u001b[1;32m     69\u001b[0m     \u001b[38;5;66;03m# `tf.debugging.disable_traceback_filtering()`\u001b[39;00m\n\u001b[0;32m---> 70\u001b[0m     \u001b[38;5;28;01mraise\u001b[39;00m e\u001b[38;5;241m.\u001b[39mwith_traceback(filtered_tb) \u001b[38;5;28;01mfrom\u001b[39;00m \u001b[38;5;28mNone\u001b[39m\n\u001b[1;32m     71\u001b[0m \u001b[38;5;28;01mfinally\u001b[39;00m:\n\u001b[1;32m     72\u001b[0m     \u001b[38;5;28;01mdel\u001b[39;00m filtered_tb\n",
      "File \u001b[0;32m/usr/local/lib/python3.10/site-packages/keras/engine/input_spec.py:232\u001b[0m, in \u001b[0;36massert_input_compatibility\u001b[0;34m(input_spec, inputs, layer_name)\u001b[0m\n\u001b[1;32m    230\u001b[0m     ndim \u001b[38;5;241m=\u001b[39m shape\u001b[38;5;241m.\u001b[39mrank\n\u001b[1;32m    231\u001b[0m     \u001b[38;5;28;01mif\u001b[39;00m ndim \u001b[38;5;241m!=\u001b[39m spec\u001b[38;5;241m.\u001b[39mndim:\n\u001b[0;32m--> 232\u001b[0m         \u001b[38;5;28;01mraise\u001b[39;00m \u001b[38;5;167;01mValueError\u001b[39;00m(\n\u001b[1;32m    233\u001b[0m             \u001b[38;5;124mf\u001b[39m\u001b[38;5;124m'\u001b[39m\u001b[38;5;124mInput \u001b[39m\u001b[38;5;132;01m{\u001b[39;00minput_index\u001b[38;5;132;01m}\u001b[39;00m\u001b[38;5;124m of layer \u001b[39m\u001b[38;5;124m\"\u001b[39m\u001b[38;5;132;01m{\u001b[39;00mlayer_name\u001b[38;5;132;01m}\u001b[39;00m\u001b[38;5;124m\"\u001b[39m\u001b[38;5;124m \u001b[39m\u001b[38;5;124m'\u001b[39m\n\u001b[1;32m    234\u001b[0m             \u001b[38;5;124m\"\u001b[39m\u001b[38;5;124mis incompatible with the layer: \u001b[39m\u001b[38;5;124m\"\u001b[39m\n\u001b[1;32m    235\u001b[0m             \u001b[38;5;124mf\u001b[39m\u001b[38;5;124m\"\u001b[39m\u001b[38;5;124mexpected ndim=\u001b[39m\u001b[38;5;132;01m{\u001b[39;00mspec\u001b[38;5;241m.\u001b[39mndim\u001b[38;5;132;01m}\u001b[39;00m\u001b[38;5;124m, found ndim=\u001b[39m\u001b[38;5;132;01m{\u001b[39;00mndim\u001b[38;5;132;01m}\u001b[39;00m\u001b[38;5;124m. \u001b[39m\u001b[38;5;124m\"\u001b[39m\n\u001b[1;32m    236\u001b[0m             \u001b[38;5;124mf\u001b[39m\u001b[38;5;124m\"\u001b[39m\u001b[38;5;124mFull shape received: \u001b[39m\u001b[38;5;132;01m{\u001b[39;00m\u001b[38;5;28mtuple\u001b[39m(shape)\u001b[38;5;132;01m}\u001b[39;00m\u001b[38;5;124m\"\u001b[39m\n\u001b[1;32m    237\u001b[0m         )\n\u001b[1;32m    238\u001b[0m \u001b[38;5;28;01mif\u001b[39;00m spec\u001b[38;5;241m.\u001b[39mmax_ndim \u001b[38;5;129;01mis\u001b[39;00m \u001b[38;5;129;01mnot\u001b[39;00m \u001b[38;5;28;01mNone\u001b[39;00m:\n\u001b[1;32m    239\u001b[0m     ndim \u001b[38;5;241m=\u001b[39m x\u001b[38;5;241m.\u001b[39mshape\u001b[38;5;241m.\u001b[39mrank\n",
      "\u001b[0;31mValueError\u001b[0m: Input 0 of layer \"lstm_34\" is incompatible with the layer: expected ndim=3, found ndim=4. Full shape received: (None, 100, 1, 30)"
     ]
    }
   ],
   "source": [
    "EPOCHS=100\n",
    "batch_size=None\n",
    "\n",
    "RNN=build_RNN()\n",
    "\n",
    "history = RNN.fit(\n",
    "  x=Xtrain,\n",
    "  y=ytrain,\n",
    "  batch_size=batch_size,\n",
    "  validation_data=(Xtest, ytest),\n",
    "  epochs=EPOCHS,\n",
    "  shuffle=True\n",
    ")"
   ]
  },
  {
   "cell_type": "code",
   "execution_count": null,
   "id": "1be9ec5a",
   "metadata": {},
   "outputs": [],
   "source": []
  },
  {
   "cell_type": "code",
   "execution_count": null,
   "id": "c1c32f99",
   "metadata": {},
   "outputs": [],
   "source": [
    "model = keras.Sequential()\n",
    "# Add an Embedding layer expecting input vocab of size 1000, and\n",
    "# output embedding dimension of size 64.\n",
    "model.add(layers.Embedding(input_dim=30, output_dim=1))\n",
    "\n",
    "# Add a LSTM layer with 128 internal units.\n",
    "model.add(layers.LSTM(128))\n",
    "\n",
    "# Add a Dense layer with 10 units.\n",
    "model.add(layers.Dense(10))\n",
    "\n",
    "model.summary()"
   ]
  },
  {
   "cell_type": "code",
   "execution_count": null,
   "id": "5c5e56ce",
   "metadata": {},
   "outputs": [],
   "source": []
  },
  {
   "cell_type": "code",
   "execution_count": null,
   "id": "54f0ba21",
   "metadata": {},
   "outputs": [],
   "source": []
  },
  {
   "cell_type": "code",
   "execution_count": null,
   "id": "6cf134e2",
   "metadata": {},
   "outputs": [],
   "source": []
  },
  {
   "cell_type": "code",
   "execution_count": null,
   "id": "5b59deca",
   "metadata": {},
   "outputs": [],
   "source": []
  },
  {
   "cell_type": "code",
   "execution_count": null,
   "id": "17c4bb56",
   "metadata": {},
   "outputs": [],
   "source": []
  },
  {
   "cell_type": "code",
   "execution_count": 299,
   "id": "edbff926",
   "metadata": {},
   "outputs": [],
   "source": [
    "import tensorflow as tf\n",
    "from tensorflow.keras.models import Sequential\n",
    "from tensorflow.keras.layers import Dense\n",
    "from tensorflow.keras.layers import LSTM\n",
    "from tensorflow.keras.layers import Embedding\n",
    "from tensorflow.keras.preprocessing import sequence\n",
    "\n",
    "tf.random.set_seed(7)"
   ]
  },
  {
   "cell_type": "code",
   "execution_count": 300,
   "id": "0032ebb6",
   "metadata": {},
   "outputs": [],
   "source": [
    "top_words = 5000"
   ]
  },
  {
   "cell_type": "code",
   "execution_count": 301,
   "id": "b0b4f206",
   "metadata": {},
   "outputs": [
    {
     "data": {
      "text/plain": [
       "30"
      ]
     },
     "execution_count": 301,
     "metadata": {},
     "output_type": "execute_result"
    }
   ],
   "source": [
    "len(X_train[0])"
   ]
  },
  {
   "cell_type": "code",
   "execution_count": 305,
   "id": "fa631f47",
   "metadata": {},
   "outputs": [],
   "source": [
    "max_review_length = 30\n",
    "X_train = sequence.pad_sequences(Xtrain, maxlen=max_review_length)\n",
    "X_test = sequence.pad_sequences(Xtest, maxlen=max_review_length)"
   ]
  },
  {
   "cell_type": "code",
   "execution_count": 340,
   "id": "8801161a",
   "metadata": {},
   "outputs": [
    {
     "name": "stdout",
     "output_type": "stream",
     "text": [
      "Model: \"sequential_56\"\n",
      "_________________________________________________________________\n",
      " Layer (type)                Output Shape              Param #   \n",
      "=================================================================\n",
      " embedding_23 (Embedding)    (None, 30, 32)            168800    \n",
      "                                                                 \n",
      " lstm_62 (LSTM)              (None, 120)               73440     \n",
      "                                                                 \n",
      " dropout_13 (Dropout)        (None, 120)               0         \n",
      "                                                                 \n",
      " dense_71 (Dense)            (None, 100)               12100     \n",
      "                                                                 \n",
      " dense_72 (Dense)            (None, 5)                 505       \n",
      "                                                                 \n",
      "=================================================================\n",
      "Total params: 254,845\n",
      "Trainable params: 254,845\n",
      "Non-trainable params: 0\n",
      "_________________________________________________________________\n",
      "None\n",
      "Epoch 1/55\n",
      "83/83 [==============================] - ETA: 0s - loss: 1.5392 - accuracy: 0.2935WARNING:tensorflow:Early stopping conditioned on metric `val_accuracy` which is not available. Available metrics are: loss,accuracy\n",
      "83/83 [==============================] - 6s 38ms/step - loss: 1.5392 - accuracy: 0.2935\n",
      "Epoch 2/55\n",
      "82/83 [============================>.] - ETA: 0s - loss: 1.3324 - accuracy: 0.4371WARNING:tensorflow:Early stopping conditioned on metric `val_accuracy` which is not available. Available metrics are: loss,accuracy\n",
      "83/83 [==============================] - 3s 39ms/step - loss: 1.3313 - accuracy: 0.4377\n",
      "Epoch 3/55\n",
      "83/83 [==============================] - ETA: 0s - loss: 1.2035 - accuracy: 0.5084WARNING:tensorflow:Early stopping conditioned on metric `val_accuracy` which is not available. Available metrics are: loss,accuracy\n",
      "83/83 [==============================] - 3s 39ms/step - loss: 1.2035 - accuracy: 0.5084\n",
      "Epoch 4/55\n",
      "83/83 [==============================] - ETA: 0s - loss: 1.1072 - accuracy: 0.5374WARNING:tensorflow:Early stopping conditioned on metric `val_accuracy` which is not available. Available metrics are: loss,accuracy\n",
      "83/83 [==============================] - 3s 39ms/step - loss: 1.1072 - accuracy: 0.5374\n",
      "Epoch 5/55\n",
      "83/83 [==============================] - ETA: 0s - loss: 0.9815 - accuracy: 0.5939WARNING:tensorflow:Early stopping conditioned on metric `val_accuracy` which is not available. Available metrics are: loss,accuracy\n",
      "83/83 [==============================] - 3s 39ms/step - loss: 0.9815 - accuracy: 0.5939\n",
      "Epoch 6/55\n",
      "83/83 [==============================] - ETA: 0s - loss: 0.8036 - accuracy: 0.6751WARNING:tensorflow:Early stopping conditioned on metric `val_accuracy` which is not available. Available metrics are: loss,accuracy\n",
      "83/83 [==============================] - 4s 45ms/step - loss: 0.8036 - accuracy: 0.6751\n",
      "Epoch 7/55\n",
      "82/83 [============================>.] - ETA: 0s - loss: 0.6257 - accuracy: 0.7677WARNING:tensorflow:Early stopping conditioned on metric `val_accuracy` which is not available. Available metrics are: loss,accuracy\n",
      "83/83 [==============================] - 4s 45ms/step - loss: 0.6248 - accuracy: 0.7680\n",
      "Epoch 8/55\n",
      "83/83 [==============================] - ETA: 0s - loss: 0.4972 - accuracy: 0.8131WARNING:tensorflow:Early stopping conditioned on metric `val_accuracy` which is not available. Available metrics are: loss,accuracy\n",
      "83/83 [==============================] - 6s 75ms/step - loss: 0.4972 - accuracy: 0.8131\n",
      "Epoch 9/55\n",
      "82/83 [============================>.] - ETA: 0s - loss: 0.4029 - accuracy: 0.8556WARNING:tensorflow:Early stopping conditioned on metric `val_accuracy` which is not available. Available metrics are: loss,accuracy\n",
      "83/83 [==============================] - 4s 48ms/step - loss: 0.4022 - accuracy: 0.8559\n",
      "Epoch 10/55\n",
      "83/83 [==============================] - ETA: 0s - loss: 0.3110 - accuracy: 0.8889WARNING:tensorflow:Early stopping conditioned on metric `val_accuracy` which is not available. Available metrics are: loss,accuracy\n",
      "83/83 [==============================] - 3s 40ms/step - loss: 0.3110 - accuracy: 0.8889\n",
      "Epoch 11/55\n",
      "83/83 [==============================] - ETA: 0s - loss: 0.2482 - accuracy: 0.9122WARNING:tensorflow:Early stopping conditioned on metric `val_accuracy` which is not available. Available metrics are: loss,accuracy\n",
      "83/83 [==============================] - 3s 40ms/step - loss: 0.2482 - accuracy: 0.9122\n",
      "Epoch 12/55\n",
      "82/83 [============================>.] - ETA: 0s - loss: 0.2078 - accuracy: 0.9304WARNING:tensorflow:Early stopping conditioned on metric `val_accuracy` which is not available. Available metrics are: loss,accuracy\n",
      "83/83 [==============================] - 3s 40ms/step - loss: 0.2071 - accuracy: 0.9308\n",
      "Epoch 13/55\n",
      "83/83 [==============================] - ETA: 0s - loss: 0.1541 - accuracy: 0.9467WARNING:tensorflow:Early stopping conditioned on metric `val_accuracy` which is not available. Available metrics are: loss,accuracy\n",
      "83/83 [==============================] - 3s 41ms/step - loss: 0.1541 - accuracy: 0.9467\n",
      "Epoch 14/55\n",
      "82/83 [============================>.] - ETA: 0s - loss: 0.1093 - accuracy: 0.9663WARNING:tensorflow:Early stopping conditioned on metric `val_accuracy` which is not available. Available metrics are: loss,accuracy\n",
      "83/83 [==============================] - 3s 41ms/step - loss: 0.1095 - accuracy: 0.9663\n",
      "Epoch 15/55\n",
      "82/83 [============================>.] - ETA: 0s - loss: 0.0946 - accuracy: 0.9699WARNING:tensorflow:Early stopping conditioned on metric `val_accuracy` which is not available. Available metrics are: loss,accuracy\n",
      "83/83 [==============================] - 4s 52ms/step - loss: 0.0943 - accuracy: 0.9699\n",
      "Epoch 16/55\n",
      "82/83 [============================>.] - ETA: 0s - loss: 0.0670 - accuracy: 0.9779WARNING:tensorflow:Early stopping conditioned on metric `val_accuracy` which is not available. Available metrics are: loss,accuracy\n",
      "83/83 [==============================] - 4s 54ms/step - loss: 0.0686 - accuracy: 0.9776\n",
      "Epoch 17/55\n",
      "82/83 [============================>.] - ETA: 0s - loss: 0.0652 - accuracy: 0.9808WARNING:tensorflow:Early stopping conditioned on metric `val_accuracy` which is not available. Available metrics are: loss,accuracy\n",
      "83/83 [==============================] - 3s 41ms/step - loss: 0.0657 - accuracy: 0.9803\n",
      "Epoch 18/55\n",
      "83/83 [==============================] - ETA: 0s - loss: 0.0447 - accuracy: 0.9879WARNING:tensorflow:Early stopping conditioned on metric `val_accuracy` which is not available. Available metrics are: loss,accuracy\n",
      "83/83 [==============================] - 4s 42ms/step - loss: 0.0447 - accuracy: 0.9879\n",
      "Epoch 19/55\n",
      "82/83 [============================>.] - ETA: 0s - loss: 0.0397 - accuracy: 0.9882WARNING:tensorflow:Early stopping conditioned on metric `val_accuracy` which is not available. Available metrics are: loss,accuracy\n",
      "83/83 [==============================] - 3s 41ms/step - loss: 0.0395 - accuracy: 0.9882\n",
      "Epoch 20/55\n",
      "83/83 [==============================] - ETA: 0s - loss: 0.0335 - accuracy: 0.9890WARNING:tensorflow:Early stopping conditioned on metric `val_accuracy` which is not available. Available metrics are: loss,accuracy\n",
      "83/83 [==============================] - 4s 44ms/step - loss: 0.0335 - accuracy: 0.9890\n",
      "Epoch 21/55\n",
      "82/83 [============================>.] - ETA: 0s - loss: 0.0423 - accuracy: 0.9874WARNING:tensorflow:Early stopping conditioned on metric `val_accuracy` which is not available. Available metrics are: loss,accuracy\n",
      "83/83 [==============================] - 4s 43ms/step - loss: 0.0421 - accuracy: 0.9875\n",
      "Epoch 22/55\n",
      "83/83 [==============================] - ETA: 0s - loss: 0.0314 - accuracy: 0.9903WARNING:tensorflow:Early stopping conditioned on metric `val_accuracy` which is not available. Available metrics are: loss,accuracy\n",
      "83/83 [==============================] - 3s 40ms/step - loss: 0.0314 - accuracy: 0.9903\n",
      "Epoch 23/55\n",
      "82/83 [============================>.] - ETA: 0s - loss: 0.0307 - accuracy: 0.9907WARNING:tensorflow:Early stopping conditioned on metric `val_accuracy` which is not available. Available metrics are: loss,accuracy\n"
     ]
    },
    {
     "name": "stdout",
     "output_type": "stream",
     "text": [
      "83/83 [==============================] - 3s 39ms/step - loss: 0.0306 - accuracy: 0.9907\n",
      "Epoch 24/55\n",
      "83/83 [==============================] - ETA: 0s - loss: 0.0186 - accuracy: 0.9941WARNING:tensorflow:Early stopping conditioned on metric `val_accuracy` which is not available. Available metrics are: loss,accuracy\n",
      "83/83 [==============================] - 3s 38ms/step - loss: 0.0186 - accuracy: 0.9941\n",
      "Epoch 25/55\n",
      "83/83 [==============================] - ETA: 0s - loss: 0.0173 - accuracy: 0.9949WARNING:tensorflow:Early stopping conditioned on metric `val_accuracy` which is not available. Available metrics are: loss,accuracy\n",
      "83/83 [==============================] - 3s 37ms/step - loss: 0.0173 - accuracy: 0.9949\n",
      "Epoch 26/55\n",
      "83/83 [==============================] - ETA: 0s - loss: 0.0292 - accuracy: 0.9915WARNING:tensorflow:Early stopping conditioned on metric `val_accuracy` which is not available. Available metrics are: loss,accuracy\n",
      "83/83 [==============================] - 3s 37ms/step - loss: 0.0292 - accuracy: 0.9915\n",
      "Epoch 27/55\n",
      "83/83 [==============================] - ETA: 0s - loss: 0.0086 - accuracy: 0.9977WARNING:tensorflow:Early stopping conditioned on metric `val_accuracy` which is not available. Available metrics are: loss,accuracy\n",
      "83/83 [==============================] - 3s 37ms/step - loss: 0.0086 - accuracy: 0.9977\n",
      "Epoch 28/55\n",
      "83/83 [==============================] - ETA: 0s - loss: 0.0057 - accuracy: 0.9989WARNING:tensorflow:Early stopping conditioned on metric `val_accuracy` which is not available. Available metrics are: loss,accuracy\n",
      "83/83 [==============================] - 3s 37ms/step - loss: 0.0057 - accuracy: 0.9989\n",
      "Epoch 29/55\n",
      "82/83 [============================>.] - ETA: 0s - loss: 0.0069 - accuracy: 0.9983WARNING:tensorflow:Early stopping conditioned on metric `val_accuracy` which is not available. Available metrics are: loss,accuracy\n",
      "83/83 [==============================] - 3s 37ms/step - loss: 0.0071 - accuracy: 0.9981\n",
      "Epoch 30/55\n",
      "83/83 [==============================] - ETA: 0s - loss: 0.0096 - accuracy: 0.9975WARNING:tensorflow:Early stopping conditioned on metric `val_accuracy` which is not available. Available metrics are: loss,accuracy\n",
      "83/83 [==============================] - 3s 38ms/step - loss: 0.0096 - accuracy: 0.9975\n",
      "Epoch 31/55\n",
      "83/83 [==============================] - ETA: 0s - loss: 0.0193 - accuracy: 0.9953WARNING:tensorflow:Early stopping conditioned on metric `val_accuracy` which is not available. Available metrics are: loss,accuracy\n",
      "83/83 [==============================] - 3s 37ms/step - loss: 0.0193 - accuracy: 0.9953\n",
      "Epoch 32/55\n",
      "83/83 [==============================] - ETA: 0s - loss: 0.0178 - accuracy: 0.9945WARNING:tensorflow:Early stopping conditioned on metric `val_accuracy` which is not available. Available metrics are: loss,accuracy\n",
      "83/83 [==============================] - 3s 38ms/step - loss: 0.0178 - accuracy: 0.9945\n",
      "Epoch 33/55\n",
      "82/83 [============================>.] - ETA: 0s - loss: 0.0050 - accuracy: 0.9990WARNING:tensorflow:Early stopping conditioned on metric `val_accuracy` which is not available. Available metrics are: loss,accuracy\n",
      "83/83 [==============================] - 4s 46ms/step - loss: 0.0050 - accuracy: 0.9991\n",
      "Epoch 34/55\n",
      "82/83 [============================>.] - ETA: 0s - loss: 0.0021 - accuracy: 0.9994WARNING:tensorflow:Early stopping conditioned on metric `val_accuracy` which is not available. Available metrics are: loss,accuracy\n",
      "83/83 [==============================] - 4s 50ms/step - loss: 0.0021 - accuracy: 0.9994\n",
      "Epoch 35/55\n",
      "82/83 [============================>.] - ETA: 0s - loss: 0.0015 - accuracy: 0.9998WARNING:tensorflow:Early stopping conditioned on metric `val_accuracy` which is not available. Available metrics are: loss,accuracy\n",
      "83/83 [==============================] - 5s 58ms/step - loss: 0.0015 - accuracy: 0.9998\n",
      "Epoch 36/55\n",
      "82/83 [============================>.] - ETA: 0s - loss: 0.0031 - accuracy: 0.9990WARNING:tensorflow:Early stopping conditioned on metric `val_accuracy` which is not available. Available metrics are: loss,accuracy\n",
      "83/83 [==============================] - 4s 49ms/step - loss: 0.0041 - accuracy: 0.9989\n",
      "Epoch 37/55\n",
      "82/83 [============================>.] - ETA: 0s - loss: 0.0362 - accuracy: 0.9912WARNING:tensorflow:Early stopping conditioned on metric `val_accuracy` which is not available. Available metrics are: loss,accuracy\n",
      "83/83 [==============================] - 4s 50ms/step - loss: 0.0380 - accuracy: 0.9907\n",
      "Epoch 38/55\n",
      "83/83 [==============================] - ETA: 0s - loss: 0.0629 - accuracy: 0.9833WARNING:tensorflow:Early stopping conditioned on metric `val_accuracy` which is not available. Available metrics are: loss,accuracy\n",
      "83/83 [==============================] - 4s 47ms/step - loss: 0.0629 - accuracy: 0.9833\n",
      "Epoch 39/55\n",
      "82/83 [============================>.] - ETA: 0s - loss: 0.0100 - accuracy: 0.9975WARNING:tensorflow:Early stopping conditioned on metric `val_accuracy` which is not available. Available metrics are: loss,accuracy\n",
      "83/83 [==============================] - 5s 55ms/step - loss: 0.0100 - accuracy: 0.9975\n",
      "Epoch 40/55\n",
      "82/83 [============================>.] - ETA: 0s - loss: 0.0034 - accuracy: 0.9996WARNING:tensorflow:Early stopping conditioned on metric `val_accuracy` which is not available. Available metrics are: loss,accuracy\n",
      "83/83 [==============================] - 4s 51ms/step - loss: 0.0034 - accuracy: 0.9996\n",
      "Epoch 41/55\n",
      "83/83 [==============================] - ETA: 0s - loss: 0.0030 - accuracy: 0.9992WARNING:tensorflow:Early stopping conditioned on metric `val_accuracy` which is not available. Available metrics are: loss,accuracy\n",
      "83/83 [==============================] - 4s 53ms/step - loss: 0.0030 - accuracy: 0.9992\n",
      "Epoch 42/55\n",
      "82/83 [============================>.] - ETA: 0s - loss: 0.0087 - accuracy: 0.9975WARNING:tensorflow:Early stopping conditioned on metric `val_accuracy` which is not available. Available metrics are: loss,accuracy\n",
      "83/83 [==============================] - 5s 55ms/step - loss: 0.0086 - accuracy: 0.9975\n",
      "Epoch 43/55\n",
      "83/83 [==============================] - ETA: 0s - loss: 0.0068 - accuracy: 0.9981WARNING:tensorflow:Early stopping conditioned on metric `val_accuracy` which is not available. Available metrics are: loss,accuracy\n",
      "83/83 [==============================] - 5s 57ms/step - loss: 0.0068 - accuracy: 0.9981\n",
      "Epoch 44/55\n",
      "82/83 [============================>.] - ETA: 0s - loss: 0.0047 - accuracy: 0.9990WARNING:tensorflow:Early stopping conditioned on metric `val_accuracy` which is not available. Available metrics are: loss,accuracy\n",
      "83/83 [==============================] - 5s 55ms/step - loss: 0.0047 - accuracy: 0.9991\n",
      "Epoch 45/55\n",
      "82/83 [============================>.] - ETA: 0s - loss: 0.0024 - accuracy: 0.9994WARNING:tensorflow:Early stopping conditioned on metric `val_accuracy` which is not available. Available metrics are: loss,accuracy\n",
      "83/83 [==============================] - 4s 54ms/step - loss: 0.0024 - accuracy: 0.9994\n",
      "Epoch 46/55\n",
      "82/83 [============================>.] - ETA: 0s - loss: 0.0023 - accuracy: 0.9992WARNING:tensorflow:Early stopping conditioned on metric `val_accuracy` which is not available. Available metrics are: loss,accuracy\n",
      "83/83 [==============================] - 5s 54ms/step - loss: 0.0023 - accuracy: 0.9992\n",
      "Epoch 47/55\n",
      "82/83 [============================>.] - ETA: 0s - loss: 0.0104 - accuracy: 0.9970WARNING:tensorflow:Early stopping conditioned on metric `val_accuracy` which is not available. Available metrics are: loss,accuracy\n",
      "83/83 [==============================] - 4s 49ms/step - loss: 0.0104 - accuracy: 0.9970\n",
      "Epoch 48/55\n",
      "83/83 [==============================] - ETA: 0s - loss: 0.0154 - accuracy: 0.9964WARNING:tensorflow:Early stopping conditioned on metric `val_accuracy` which is not available. Available metrics are: loss,accuracy\n",
      "83/83 [==============================] - 5s 59ms/step - loss: 0.0154 - accuracy: 0.9964\n",
      "Epoch 49/55\n",
      "82/83 [============================>.] - ETA: 0s - loss: 0.0030 - accuracy: 0.9992WARNING:tensorflow:Early stopping conditioned on metric `val_accuracy` which is not available. Available metrics are: loss,accuracy\n",
      "83/83 [==============================] - 4s 50ms/step - loss: 0.0030 - accuracy: 0.9992\n"
     ]
    },
    {
     "name": "stdout",
     "output_type": "stream",
     "text": [
      "Epoch 50/55\n",
      "83/83 [==============================] - ETA: 0s - loss: 0.0042 - accuracy: 0.9983WARNING:tensorflow:Early stopping conditioned on metric `val_accuracy` which is not available. Available metrics are: loss,accuracy\n",
      "83/83 [==============================] - 4s 44ms/step - loss: 0.0042 - accuracy: 0.9983\n",
      "Epoch 51/55\n",
      "82/83 [============================>.] - ETA: 0s - loss: 0.0046 - accuracy: 0.9992WARNING:tensorflow:Early stopping conditioned on metric `val_accuracy` which is not available. Available metrics are: loss,accuracy\n",
      "83/83 [==============================] - 4s 47ms/step - loss: 0.0046 - accuracy: 0.9992\n",
      "Epoch 52/55\n",
      "83/83 [==============================] - ETA: 0s - loss: 0.0015 - accuracy: 0.9994WARNING:tensorflow:Early stopping conditioned on metric `val_accuracy` which is not available. Available metrics are: loss,accuracy\n",
      "83/83 [==============================] - 4s 47ms/step - loss: 0.0015 - accuracy: 0.9994\n",
      "Epoch 53/55\n",
      "82/83 [============================>.] - ETA: 0s - loss: 8.7260e-04 - accuracy: 1.0000WARNING:tensorflow:Early stopping conditioned on metric `val_accuracy` which is not available. Available metrics are: loss,accuracy\n",
      "83/83 [==============================] - 3s 42ms/step - loss: 8.6893e-04 - accuracy: 1.0000\n",
      "Epoch 54/55\n",
      "82/83 [============================>.] - ETA: 0s - loss: 0.0013 - accuracy: 0.9994  WARNING:tensorflow:Early stopping conditioned on metric `val_accuracy` which is not available. Available metrics are: loss,accuracy\n",
      "83/83 [==============================] - 3s 40ms/step - loss: 0.0013 - accuracy: 0.9994\n",
      "Epoch 55/55\n",
      "82/83 [============================>.] - ETA: 0s - loss: 0.0042 - accuracy: 0.9987WARNING:tensorflow:Early stopping conditioned on metric `val_accuracy` which is not available. Available metrics are: loss,accuracy\n",
      "83/83 [==============================] - 4s 45ms/step - loss: 0.0065 - accuracy: 0.9985\n"
     ]
    },
    {
     "data": {
      "text/plain": [
       "<keras.callbacks.History at 0x1418bcee0>"
      ]
     },
     "execution_count": 340,
     "metadata": {},
     "output_type": "execute_result"
    }
   ],
   "source": [
    "# create the model\n",
    "callback = keras.callbacks.EarlyStopping(monitor='val_accuracy',\n",
    "                                        min_delta=0,\n",
    "                                        patience=15,\n",
    "                                        restore_best_weights=True,\n",
    "                                        mode='auto')\n",
    "model = Sequential()\n",
    "model.add(Embedding(len(X), embedding_vecor_length, input_length=max_review_length))\n",
    "model.add(LSTM(120)),\n",
    "model.add(layers.Dropout(0.4)),\n",
    "model.add(Dense(100, activation='relu')),\n",
    "model.add(Dense(5, activation='softmax'))\n",
    "model.compile(loss='sparse_categorical_crossentropy', optimizer='adam', metrics=['accuracy'])\n",
    "print(model.summary())\n",
    "model.fit(X, y, epochs=55, batch_size=64, callbacks=callback)"
   ]
  },
  {
   "cell_type": "code",
   "execution_count": 341,
   "id": "baabb5a4",
   "metadata": {},
   "outputs": [
    {
     "name": "stdout",
     "output_type": "stream",
     "text": [
      "33/33 [==============================] - 1s 12ms/step\n"
     ]
    }
   ],
   "source": [
    "pred=model.predict(Xtest)"
   ]
  },
  {
   "cell_type": "code",
   "execution_count": 342,
   "id": "282c4a71",
   "metadata": {},
   "outputs": [],
   "source": [
    "pred=np.argmax(pred, axis=1)"
   ]
  },
  {
   "cell_type": "code",
   "execution_count": 343,
   "id": "3a60a2ee",
   "metadata": {},
   "outputs": [
    {
     "data": {
      "text/plain": [
       "array([1, 3, 1, ..., 1, 3, 2])"
      ]
     },
     "execution_count": 343,
     "metadata": {},
     "output_type": "execute_result"
    }
   ],
   "source": [
    "pred"
   ]
  },
  {
   "cell_type": "code",
   "execution_count": 344,
   "id": "1f118c1b",
   "metadata": {},
   "outputs": [
    {
     "name": "stdout",
     "output_type": "stream",
     "text": [
      "              precision    recall  f1-score   support\n",
      "\n",
      "           0       1.00      1.00      1.00       235\n",
      "           1       1.00      1.00      1.00       205\n",
      "           2       1.00      1.00      1.00       198\n",
      "           3       1.00      1.00      1.00       234\n",
      "           4       1.00      1.00      1.00       183\n",
      "\n",
      "    accuracy                           1.00      1055\n",
      "   macro avg       1.00      1.00      1.00      1055\n",
      "weighted avg       1.00      1.00      1.00      1055\n",
      "\n"
     ]
    }
   ],
   "source": [
    "print(classification_report(ytest, pred))"
   ]
  },
  {
   "cell_type": "code",
   "execution_count": 265,
   "id": "422712ce",
   "metadata": {},
   "outputs": [],
   "source": [
    "test_5='/Users/thomasgaehtgens/Desktop/level_5/full_test_data.csv'\n",
    "test_5_df=pd.read_csv(test_5, header=None)"
   ]
  },
  {
   "cell_type": "code",
   "execution_count": 266,
   "id": "a8d5a8db",
   "metadata": {},
   "outputs": [],
   "source": [
    "Xtest_5=np.array(test_5_df[0])\n",
    "Xtest_5=np.array([convert_string(i) for i in Xtest_5]).astype(int)"
   ]
  },
  {
   "cell_type": "code",
   "execution_count": 267,
   "id": "dc851f1b",
   "metadata": {},
   "outputs": [
    {
     "data": {
      "text/plain": [
       "array([[6, 4, 4, ..., 9, 8, 2],\n",
       "       [1, 5, 6, ..., 9, 9, 7],\n",
       "       [1, 7, 1, ..., 6, 4, 5],\n",
       "       ...,\n",
       "       [2, 3, 4, ..., 9, 8, 7],\n",
       "       [5, 5, 2, ..., 4, 3, 5],\n",
       "       [8, 4, 9, ..., 9, 6, 5]])"
      ]
     },
     "execution_count": 267,
     "metadata": {},
     "output_type": "execute_result"
    }
   ],
   "source": [
    "Xtest_5\n"
   ]
  },
  {
   "cell_type": "code",
   "execution_count": 268,
   "id": "987ac10b",
   "metadata": {},
   "outputs": [
    {
     "name": "stdout",
     "output_type": "stream",
     "text": [
      "31/31 [==============================] - 1s 9ms/step\n"
     ]
    }
   ],
   "source": [
    "pred=model.predict(Xtest_5)"
   ]
  },
  {
   "cell_type": "code",
   "execution_count": 269,
   "id": "42a74ba0",
   "metadata": {},
   "outputs": [],
   "source": [
    "pred=np.argmax(pred, axis=1)"
   ]
  },
  {
   "cell_type": "code",
   "execution_count": 270,
   "id": "10409d6d",
   "metadata": {},
   "outputs": [
    {
     "data": {
      "text/plain": [
       "(981,)"
      ]
     },
     "execution_count": 270,
     "metadata": {},
     "output_type": "execute_result"
    }
   ],
   "source": [
    "pred.shape"
   ]
  },
  {
   "cell_type": "code",
   "execution_count": 272,
   "id": "a9500be1",
   "metadata": {},
   "outputs": [],
   "source": [
    "np.savetxt('level_5.txt', pred.reshape(pred.size, -1), '%d')"
   ]
  },
  {
   "cell_type": "code",
   "execution_count": null,
   "id": "69ac083b",
   "metadata": {},
   "outputs": [],
   "source": []
  },
  {
   "cell_type": "code",
   "execution_count": 345,
   "id": "7ad2dea9",
   "metadata": {},
   "outputs": [],
   "source": [
    "test_8='/Users/thomasgaehtgens/Desktop/level_8/imbalanced_test_data.csv'\n",
    "test_8_df=pd.read_csv(test_8, header=None)"
   ]
  },
  {
   "cell_type": "code",
   "execution_count": 346,
   "id": "f2114727",
   "metadata": {},
   "outputs": [],
   "source": [
    "Xtest_8=np.array(test_8_df[0])\n",
    "Xtest_8=np.array([convert_string(i) for i in Xtest_8]).astype(int)"
   ]
  },
  {
   "cell_type": "code",
   "execution_count": 347,
   "id": "972f58aa",
   "metadata": {},
   "outputs": [
    {
     "name": "stdout",
     "output_type": "stream",
     "text": [
      "42/42 [==============================] - 1s 12ms/step\n"
     ]
    }
   ],
   "source": [
    "pred=model.predict(Xtest_8)"
   ]
  },
  {
   "cell_type": "code",
   "execution_count": 348,
   "id": "19ee8a28",
   "metadata": {},
   "outputs": [],
   "source": [
    "pred=np.argmax(pred, axis=1)"
   ]
  },
  {
   "cell_type": "code",
   "execution_count": 349,
   "id": "dcdf12df",
   "metadata": {},
   "outputs": [],
   "source": [
    "np.savetxt('level_8.txt', pred.reshape(pred.size, -1), '%d')"
   ]
  },
  {
   "cell_type": "code",
   "execution_count": null,
   "id": "8312cd01",
   "metadata": {},
   "outputs": [],
   "source": []
  }
 ],
 "metadata": {
  "kernelspec": {
   "display_name": "Python 3 (ipykernel)",
   "language": "python",
   "name": "python3"
  },
  "language_info": {
   "codemirror_mode": {
    "name": "ipython",
    "version": 3
   },
   "file_extension": ".py",
   "mimetype": "text/x-python",
   "name": "python",
   "nbconvert_exporter": "python",
   "pygments_lexer": "ipython3",
   "version": "3.10.8"
  }
 },
 "nbformat": 4,
 "nbformat_minor": 5
}
